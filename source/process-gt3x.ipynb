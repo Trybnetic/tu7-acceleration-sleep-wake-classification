{
 "cells": [
  {
   "cell_type": "markdown",
   "id": "exotic-wisdom",
   "metadata": {},
   "source": [
    "# Create hdf5 file from gt3x files\n",
    "\n",
    "In this notebook, code snippets are presented to collect and store the data from various .gt3x files to one hdf5 file. This has the advantage that further processing becomes much quicker as the gt3x files do not need to be decoded everytime."
   ]
  },
  {
   "cell_type": "code",
   "execution_count": 1,
   "id": "several-blair",
   "metadata": {},
   "outputs": [],
   "source": [
    "import h5py\n",
    "import os\n",
    "from multiprocessing import Pool\n",
    "\n",
    "from tqdm.notebook import tqdm\n",
    "import glob2\n",
    "import paat\n",
    "from paat import io\n",
    "\n",
    "# Set file path to relevant files\n",
    "GT3X_BASE_PATH = os.path.join(os.sep, 'run', 'media', 'msw', 'LaCie', 'Actigraph_raw')\n",
    "HDF5_FILE_PATH = os.path.join(os.sep, 'run', 'media', 'msw', 'LaCie', 'ACTIGRAPH_TU7.hdf5')"
   ]
  },
  {
   "cell_type": "markdown",
   "id": "dying-leave",
   "metadata": {},
   "source": [
    "## Parallel execution"
   ]
  },
  {
   "cell_type": "code",
   "execution_count": null,
   "id": "suburban-sustainability",
   "metadata": {},
   "outputs": [
    {
     "data": {
      "application/vnd.jupyter.widget-view+json": {
       "model_id": "6d6447765d86430480dbc945fe2ebb1e",
       "version_major": 2,
       "version_minor": 0
      },
      "text/plain": [
       "  0%|          | 0/6157 [00:00<?, ?it/s]"
      ]
     },
     "metadata": {},
     "output_type": "display_data"
    }
   ],
   "source": [
    "def process_file(file_path):\n",
    "    # Load data from gt3x file\n",
    "    time, acceleration, meta = paat.io.read_gt3x(file_path)\n",
    "    \n",
    "    while True:\n",
    "        try:\n",
    "            # Save data to new hdf5 file\n",
    "            with h5py.File(HDF5_FILE_PATH, 'a') as hdf5_file:\n",
    "                grp = hdf5_file.create_group(meta[\"Subject_Name\"])\n",
    "                paat.io.save_dset(grp, \"acceleration\", time, acceleration, meta)\n",
    "            break\n",
    "        except Exception:\n",
    "            pass\n",
    "            \n",
    "            \n",
    "# Get all gt3x files\n",
    "gt3x_files = glob2.glob(os.path.join(GT3X_BASE_PATH, '**', '*.gt3x'))\n",
    "    \n",
    "# Process all files\n",
    "with Pool(16) as p:\n",
    "    list(tqdm(p.imap(process_file, gt3x_files), total=len(gt3x_files)))\n",
    "    "
   ]
  },
  {
   "cell_type": "markdown",
   "id": "judicial-yemen",
   "metadata": {},
   "source": [
    "## Iterative execution"
   ]
  },
  {
   "cell_type": "markdown",
   "id": "economic-oxide",
   "metadata": {},
   "source": [
    "``` python\n",
    "def process_file(file_path):\n",
    "    # Load data from gt3x file\n",
    "    time, acceleration, meta = paat.io.read_gt3x(file_path)\n",
    "    \n",
    "    # Save data to new hdf5 file\n",
    "    with h5py.File(HDF5_FILE_PATH, 'w') as hdf5_file:\n",
    "        grp = hdf5_file.create_group(meta[\"Subject_Name\"])\n",
    "        paat.io.save_dset(grp, \"acceleration\", time, acceleration, meta)\n",
    "          \n",
    "        \n",
    "# Get all gt3x files\n",
    "gt3x_files = glob2.glob(os.path.join(GT3X_BASE_PATH, '**', '*.gt3x'))\n",
    "\n",
    "for file_path in tqdm(gt3x_files):    \n",
    "    process_file(file_path)\n",
    "```\n",
    "\n",
    "<div class=\"alert alert-info\">\n",
    "\n",
    "**Note:**\n",
    "\n",
    "The code above takes a considerable amount of time to execute and is therefore not executed here. However, in some cases you might be interested in running the code on just a single core\n",
    "\n",
    "</div>\n"
   ]
  }
 ],
 "metadata": {
  "kernelspec": {
   "display_name": "Python 3",
   "language": "python",
   "name": "python3"
  },
  "language_info": {
   "codemirror_mode": {
    "name": "ipython",
    "version": 3
   },
   "file_extension": ".py",
   "mimetype": "text/x-python",
   "name": "python",
   "nbconvert_exporter": "python",
   "pygments_lexer": "ipython3",
   "version": "3.8.8"
  }
 },
 "nbformat": 4,
 "nbformat_minor": 5
}
