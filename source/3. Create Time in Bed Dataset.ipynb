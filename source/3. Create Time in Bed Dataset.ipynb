{
 "cells": [
  {
   "cell_type": "markdown",
   "id": "infectious-brunei",
   "metadata": {},
   "source": [
    "# Merge ActiGraph and Position Data"
   ]
  },
  {
   "cell_type": "code",
   "execution_count": 1,
   "id": "loaded-tissue",
   "metadata": {},
   "outputs": [
    {
     "name": "stdout",
     "output_type": "stream",
     "text": [
      "INFO:tensorflow:Enabling eager execution\n",
      "INFO:tensorflow:Enabling v2 tensorshape\n",
      "INFO:tensorflow:Enabling resource variables\n",
      "INFO:tensorflow:Enabling tensor equality\n",
      "INFO:tensorflow:Enabling control flow v2\n"
     ]
    }
   ],
   "source": [
    "import h5py\n",
    "import os\n",
    "import json\n",
    "import numpy as np\n",
    "import pandas as pd\n",
    "\n",
    "from tqdm.notebook import tqdm\n",
    "import paat\n",
    "\n",
    "# Set file path to relevant files\n",
    "ACTIGRAPH_FILEPATH = os.path.join(os.sep, 'run', 'media', 'msw', 'LaCie', 'ACTIGRAPH_TU7.hdf5')\n",
    "ACTIWAVE_FILEPATH = os.path.join(os.sep, 'run', 'media', 'msw', 'LaCie1', 'ACTIWAVE_TU7.hdf5')\n",
    "BEDTIME_FILEPATH = os.path.join(os.sep, 'run', 'media', 'msw', 'LaCie', 'BEDTIME_TU7.hdf5')"
   ]
  },
  {
   "cell_type": "markdown",
   "id": "coral-lithuania",
   "metadata": {},
   "source": [
    "## Identify subjects that have ActiGraph and ActiWave data"
   ]
  },
  {
   "cell_type": "markdown",
   "id": "reasonable-impression",
   "metadata": {},
   "source": [
    "### Invalid subjects\n",
    "\n",
    "Some of the subjects in both data sets have invalid data and need therefore to be removed. In the following, the subjects are stated with the reason for removal."
   ]
  },
  {
   "cell_type": "code",
   "execution_count": 2,
   "id": "catholic-greece",
   "metadata": {},
   "outputs": [],
   "source": [
    "invalid_subjects = ['90013013', # actiwave data invalid\n",
    "                    '90022619', # actiwave data invalid\n",
    "                    '90097429', # actiwave z axis too high\n",
    "                    '90107724', # actiwave data flat\n",
    "                    '90265628', # actiwave data flat\n",
    "                    '90277429', # actiwave data measurement errors in beginning\n",
    "                    '90352827', # actiwave y and z invalid\n",
    "                    '90358126', # actiwave data flat\n",
    "                    '90359935', # actiwave data measurement errors\n",
    "                    '90551323', # actiwave flat\n",
    "                    '90631928', # actiwave measurements error\n",
    "                    '90821020', # actiwave measurements error\n",
    "                    '90884635', # actiwave measurements error\n",
    "                    '90936734', # actiwave flat\n",
    "                    '90952429', # actiwave measurements error\n",
    "                    '92108626', # actiwave flat\n",
    "                    '92280425', # actiwave measurements error\n",
    "                    '92327831', # actiwave flat\n",
    "                    '92355428', # actiwave flat\n",
    "                    '92504323', # actiwave measurements error\n",
    "                    '93208931', # actiwave measurements error\n",
    "                    '90165829', # no epoch data\n",
    "                    '90416626', # no inclinometer data\n",
    "                    '90320317', # has only 3.4672222222222224 of recording time\n",
    "                    '90385429', # has only 0.8555555555555555 of recording time\n",
    "                    ]"
   ]
  },
  {
   "cell_type": "markdown",
   "id": "instant-power",
   "metadata": {},
   "source": [
    "### Load subjects from ActiGraph file"
   ]
  },
  {
   "cell_type": "code",
   "execution_count": 3,
   "id": "exterior-pillow",
   "metadata": {},
   "outputs": [],
   "source": [
    "with h5py.File(ACTIGRAPH_FILEPATH, 'r') as actigraph_file:\n",
    "    actigraph_subjects = set(actigraph_file.keys())"
   ]
  },
  {
   "cell_type": "markdown",
   "id": "juvenile-courtesy",
   "metadata": {},
   "source": [
    "### Load subjects from ActiWave file"
   ]
  },
  {
   "cell_type": "code",
   "execution_count": 4,
   "id": "introductory-exhaust",
   "metadata": {},
   "outputs": [],
   "source": [
    "with h5py.File(ACTIWAVE_FILEPATH, 'r') as actiwave_file:\n",
    "    actiwave_subjects = set(actiwave_file.keys())"
   ]
  },
  {
   "cell_type": "markdown",
   "id": "academic-title",
   "metadata": {},
   "source": [
    "### Calculate intersection"
   ]
  },
  {
   "cell_type": "code",
   "execution_count": 5,
   "id": "competitive-homework",
   "metadata": {},
   "outputs": [
    {
     "name": "stdout",
     "output_type": "stream",
     "text": [
      "608 subjects have both ActiGraph and ActiWave data\n",
      "583 of these subjects have valid data\n"
     ]
    }
   ],
   "source": [
    "relevant_subjects = list(actigraph_subjects & actiwave_subjects)\n",
    "relevant_subjects.sort()\n",
    "print(\"{} subjects have both ActiGraph and ActiWave data\".format(len(relevant_subjects)))\n",
    "\n",
    "relevant_subjects = [subject for subject in relevant_subjects if subject not in invalid_subjects]\n",
    "print(\"{} of these subjects have valid data\".format(len(relevant_subjects)))"
   ]
  },
  {
   "cell_type": "markdown",
   "id": "renewable-index",
   "metadata": {},
   "source": [
    "### Find all existing positions"
   ]
  },
  {
   "cell_type": "code",
   "execution_count": 6,
   "id": "trying-longitude",
   "metadata": {},
   "outputs": [],
   "source": [
    "inclinometer_labels = set()\n",
    "\n",
    "with h5py.File(ACTIWAVE_FILEPATH, 'r') as actiwave_file:\n",
    "    for subject in relevant_subjects:\n",
    "        positions_json = json.loads(actiwave_file[subject].attrs[\"Annotations\"])\n",
    "        _, _, positions = zip(*list(positions_json.values()))\n",
    "\n",
    "        inclinometer_labels.update(positions)\n",
    "        \n",
    "label_dict = {label:_class for _class, label in enumerate(inclinometer_labels)}"
   ]
  },
  {
   "cell_type": "markdown",
   "id": "mysterious-pantyhose",
   "metadata": {},
   "source": [
    "## Merge data from both devices"
   ]
  },
  {
   "cell_type": "markdown",
   "id": "floating-cinema",
   "metadata": {},
   "source": [
    "### Helper functions"
   ]
  },
  {
   "cell_type": "code",
   "execution_count": 7,
   "id": "recovered-bicycle",
   "metadata": {},
   "outputs": [],
   "source": [
    "def process_inclinometer_str(json_str, time, label_dict, time_res=1e3):\n",
    "\n",
    "    positions_lst = json.loads(json_str)\n",
    "\n",
    "    n_samples = time.shape[0]\n",
    "    values = np.full(n_samples, np.nan)\n",
    "    start = time[0]\n",
    "\n",
    "    for offset, duration, position in list(positions_lst.values()):\n",
    "        t_1 = start + int(offset * time_res)\n",
    "        t_2 = start + int((offset + duration) * time_res)\n",
    "        values[((time >= t_1) & (time <= t_2))] = label_dict[position]\n",
    "\n",
    "    return values\n",
    "\n",
    "\n",
    "def segment(time, values, meta, start, stop, start_id=\"Start_Time\", n_samples_id=\"Number_Of_Samples\"):\n",
    "    segment_idx = (time >= start) & (time < stop)\n",
    "    \n",
    "    time = time[segment_idx]\n",
    "    values = values[segment_idx]\n",
    "    \n",
    "    meta[start_id] = time[0].astype(int)\n",
    "    meta[n_samples_id] = time.shape[0]\n",
    "    \n",
    "    return time, values, meta\n",
    "\n",
    "\n",
    "def get_start_stop_actiwave(grp, field):\n",
    "    dset = grp[field]\n",
    "    \n",
    "    start = np.array(grp.attrs[\"Start Datetime\"], dtype=\"datetime64[s]\")\n",
    "    duration = np.array(dset.attrs[\"NSamples\"] / dset.attrs[\"Sample Frequency\"], dtype=\"timedelta64[s]\")\n",
    "    stop = start + duration\n",
    "    \n",
    "    return start, stop\n",
    "    "
   ]
  },
  {
   "cell_type": "markdown",
   "id": "handed-council",
   "metadata": {},
   "source": [
    "### Processing pipeline"
   ]
  },
  {
   "cell_type": "code",
   "execution_count": 8,
   "id": "posted-stability",
   "metadata": {},
   "outputs": [
    {
     "data": {
      "application/vnd.jupyter.widget-view+json": {
       "model_id": "e62e39b05e4749e6af85b9ee6f746b99",
       "version_major": 2,
       "version_minor": 0
      },
      "text/plain": [
       "  0%|          | 0/583 [00:00<?, ?it/s]"
      ]
     },
     "metadata": {},
     "output_type": "display_data"
    },
    {
     "name": "stdout",
     "output_type": "stream",
     "text": [
      "Problem processing subject 90248124: Data does not overlap. ActiGraph data from 2016-03-08T00:00:00.000 to 2016-03-14T23:59:52.990. ActiWave data from 2016-03-04T10:58:00 to 2016-03-05T14:42:23\n"
     ]
    }
   ],
   "source": [
    "# Create new empty h5 file\n",
    "with h5py.File(BEDTIME_FILEPATH, 'w') as bedtime_file:\n",
    "    bedtime_file.attrs[\"label_dict\"] = json.dumps(label_dict)\n",
    "    bedtime_file.attrs[\"readme\"] = \"This dataset contains the raw acceleration data from \\\n",
    "                                    ActiGraph devices in the X, Y and Z column as well as \\\n",
    "                                    the subject's position derived from the ActiWave device \\\n",
    "                                    in the Position column. Time information is stored in \\\n",
    "                                    the Time column.\\n\\n The information which number in \\\n",
    "                                    the position column corresponds to which position is \\\n",
    "                                    stored in the 'label_dict' attribute which holds a \\\n",
    "                                    mapping {position_str: position_id}. NaN values in this \\\n",
    "                                    column are periods when the ActiWave device did not \\\n",
    "                                    record data which happened according to the manual, \\\n",
    "                                    when the subject was in motion.\"\n",
    "    \n",
    "for subject in tqdm(relevant_subjects):\n",
    "    \n",
    "    # Load ActiGraph data\n",
    "    with h5py.File(ACTIGRAPH_FILEPATH, 'r') as actigraph_file:\n",
    "        time, acceleration, meta = paat.io.load_dset(actigraph_file[subject], \"acceleration\", rescale=True)\n",
    "\n",
    "    # Load ActiWave data\n",
    "    with h5py.File(ACTIWAVE_FILEPATH, 'r') as actiwave_file:\n",
    "        actiwave_start, actiwave_stop = get_start_stop_actiwave(actiwave_file[subject], \"acceleration\")\n",
    "\n",
    "        positions_json = actiwave_file[subject].attrs[\"Annotations\"]\n",
    "\n",
    "    # Extract the positions from the ActiWave data\n",
    "    n_samples = (actiwave_stop - actiwave_start).astype(int) * meta[\"Sample_Rate\"]\n",
    "    actiwave_time = paat.io._create_time_vector(actiwave_start, n_samples, meta[\"Sample_Rate\"])\n",
    "    positions = process_inclinometer_str(positions_json, actiwave_time, label_dict)\n",
    "    actiwave_meta = {\"Number_Of_Samples\": n_samples, \n",
    "                     \"Sample_Rate\": meta[\"Sample_Rate\"], \n",
    "                     \"Start_Time\": actiwave_time[0]}\n",
    "\n",
    "    # Find period for which we have data from both sensors\n",
    "    start = max(actiwave_start, time[0])\n",
    "    stop = min(actiwave_stop, time[-1])\n",
    "        \n",
    "    if (start > stop):\n",
    "        print(\"Problem processing subject {}: Data does not overlap. ActiGraph data from {} to {}. ActiWave data from {} to {}\".format(subject, time[0], time[-1], actiwave_start, actiwave_stop))\n",
    "        continue\n",
    "        \n",
    "    # Extract relevant periods\n",
    "    time, acceleration, meta = segment(time, acceleration, meta, start=start, stop=stop)\n",
    "    _, positions, _ = segment(actiwave_time, positions, actiwave_meta, start=start, stop=stop)\n",
    "\n",
    "    # Store data as a dataframe\n",
    "    df = pd.DataFrame({\"Time\": time, \n",
    "                       \"X\": acceleration[:,1], \n",
    "                       \"Y\": acceleration[:,0],\n",
    "                       \"Z\": acceleration[:,2],\n",
    "                       \"Position\": positions})\n",
    "    \n",
    "    # Save data to new file\n",
    "    df.to_hdf(BEDTIME_FILEPATH, key=\"subject\" + subject)\n"
   ]
  }
 ],
 "metadata": {
  "kernelspec": {
   "display_name": "Python 3",
   "language": "python",
   "name": "python3"
  },
  "language_info": {
   "codemirror_mode": {
    "name": "ipython",
    "version": 3
   },
   "file_extension": ".py",
   "mimetype": "text/x-python",
   "name": "python",
   "nbconvert_exporter": "python",
   "pygments_lexer": "ipython3",
   "version": "3.8.8"
  }
 },
 "nbformat": 4,
 "nbformat_minor": 5
}
