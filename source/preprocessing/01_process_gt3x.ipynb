{
 "cells": [
  {
   "cell_type": "markdown",
   "id": "exotic-wisdom",
   "metadata": {},
   "source": [
    "# Create hdf5 file from gt3x files\n",
    "\n",
    "In this notebook, code snippets are presented to collect and store the data from various .gt3x files to one hdf5 file. This has the advantage that further processing becomes much quicker as the gt3x files do not need to be decoded everytime."
   ]
  },
  {
   "cell_type": "code",
   "execution_count": 1,
   "id": "several-blair",
   "metadata": {},
   "outputs": [
    {
     "name": "stdout",
     "output_type": "stream",
     "text": [
      "INFO:tensorflow:Enabling eager execution\n",
      "INFO:tensorflow:Enabling v2 tensorshape\n",
      "INFO:tensorflow:Enabling resource variables\n",
      "INFO:tensorflow:Enabling tensor equality\n",
      "INFO:tensorflow:Enabling control flow v2\n"
     ]
    }
   ],
   "source": [
    "import h5py\n",
    "import os\n",
    "from multiprocessing import Pool\n",
    "import random\n",
    "import time\n",
    "import logging\n",
    "\n",
    "from tqdm.notebook import tqdm\n",
    "import glob2\n",
    "import paat\n",
    "\n",
    "logging.basicConfig(filename='/tmp/process-gt3x.log')\n",
    "\n",
    "# Set file path to relevant files\n",
    "GT3X_BASE_PATH = os.path.join(os.sep, 'run', 'media', 'msw', 'LaCie', 'Actigraph_raw')\n",
    "HDF5_FILE_PATH = os.path.join(os.sep, 'run', 'media', 'msw', 'LaCie', 'ACTIGRAPH_TU7.hdf5')\n",
    "\n",
    "# Specify the number of cores you want to execute the code on in parallel processing mode\n",
    "N_JOBS = 16"
   ]
  },
  {
   "cell_type": "markdown",
   "id": "compliant-console",
   "metadata": {},
   "source": [
    "## Define the processing pipeline"
   ]
  },
  {
   "cell_type": "code",
   "execution_count": 2,
   "id": "forbidden-carol",
   "metadata": {},
   "outputs": [],
   "source": [
    "def process_file(file_path):\n",
    "    try:\n",
    "        # Load the data\n",
    "        times, acceleration, meta = paat.io.read_gt3x(file_path)\n",
    "        \n",
    "        # Save data to file\n",
    "        while True:  \n",
    "            try:\n",
    "                with h5py.File(HDF5_FILE_PATH, 'a') as hdf5_file:\n",
    "                    grp = hdf5_file.create_group(meta[\"Subject_Name\"])\n",
    "                    paat.io.save_dset(grp, \"acceleration\", times, acceleration, meta)\n",
    "            # Repeat saving when file is used by a different process\n",
    "            except OSError: \n",
    "                time.sleep(random.uniform(0,3))\n",
    "                continue\n",
    "            break\n",
    "    except Exception as msg:\n",
    "        print('Could not process file {}: \"{}\"'.format(file_path, msg))"
   ]
  },
  {
   "cell_type": "markdown",
   "id": "dominant-junction",
   "metadata": {},
   "source": [
    "<div class=\"alert alert-warning\">\n",
    "\n",
    "**Note:**\n",
    "\n",
    "The while True statement in `process_file()` might look obscure in the first place, but is necessary to enable parallel processing. A `OSError` is raised by the programm when it tries to save the data while the file is locked by a different process. Sadly, there is no built-in functionality yet for a more sophisticated parallel writing to a hdf5 file, so the quickfix solution is to try again after a short period. This should be improved as soon as more sophisticated ways have been developed!\n",
    "\n",
    "</div>"
   ]
  },
  {
   "cell_type": "markdown",
   "id": "temporal-version",
   "metadata": {},
   "source": [
    "## Process all gt3x files"
   ]
  },
  {
   "cell_type": "code",
   "execution_count": 3,
   "id": "synthetic-malawi",
   "metadata": {},
   "outputs": [
    {
     "data": {
      "application/vnd.jupyter.widget-view+json": {
       "model_id": "41439f2293fb4d5db5a849ac9ede98a6",
       "version_major": 2,
       "version_minor": 0
      },
      "text/plain": [
       "  0%|          | 0/6157 [00:00<?, ?it/s]"
      ]
     },
     "metadata": {},
     "output_type": "display_data"
    },
    {
     "name": "stdout",
     "output_type": "stream",
     "text": [
      "Could not process file /run/media/msw/LaCie/Actigraph_raw/2015 05/90449329 (2015-05-09).gt3x: \"Unable to create group (name already exists)\"\n",
      "Could not process file /run/media/msw/LaCie/Actigraph_raw/2015 09/92568434 (2015-09-24).gt3x: \"'NoneType' object has no attribute 'shape'\"\n",
      "Could not process file /run/media/msw/LaCie/Actigraph_raw/2015 10/90606223 (2015-10-28).gt3x: \"'NoneType' object has no attribute 'shape'\"\n",
      "Could not process file /run/media/msw/LaCie/Actigraph_raw/2015 10/91500621 (2015-10-03).gt3x: \"'Serial_Number'\"\n",
      "Could not process file /run/media/msw/LaCie/Actigraph_raw/2015 11/92678133 (2015-11-28).gt3x: \"Unable to create group (name already exists)\"\n",
      "Could not process file /run/media/msw/LaCie/Actigraph_raw/2016 03/90516829 (2016-03-12).gt3x: \"'NoneType' object has no attribute 'shape'\"\n",
      "Could not process file /run/media/msw/LaCie/Actigraph_raw/2016 03/92538330 (2016-03-16).gt3x: \"'NoneType' object has no attribute 'shape'\"\n",
      "Could not process file /run/media/msw/LaCie/Actigraph_raw/2016 03/92548735 (2016-03-30).gt3x: \"'NoneType' object has no attribute 'shape'\"\n",
      "Could not process file /run/media/msw/LaCie/Actigraph_raw/2016 04/90281929 (2016-04-28).gt3x: \"Creating time array does not support sampling frequencies other than 100hz yet. See https://github.com/Trybnetic/paat/issues/10\"\n",
      "Could not process file /run/media/msw/LaCie/Actigraph_raw/2016 04/90571830 (2016-04-08).gt3x: \"'NoneType' object has no attribute 'shape'\"\n",
      "Could not process file /run/media/msw/LaCie/Actigraph_raw/2016 04/90607931 (2016-04-28).gt3x: \"Creating time array does not support sampling frequencies other than 100hz yet. See https://github.com/Trybnetic/paat/issues/10\"\n",
      "Could not process file /run/media/msw/LaCie/Actigraph_raw/2016 04/90709025 (2016-04-28).gt3x: \"Creating time array does not support sampling frequencies other than 100hz yet. See https://github.com/Trybnetic/paat/issues/10\"\n",
      "Could not process file /run/media/msw/LaCie/Actigraph_raw/2016 04/90776029 (2016-04-28).gt3x: \"Creating time array does not support sampling frequencies other than 100hz yet. See https://github.com/Trybnetic/paat/issues/10\"\n",
      "Could not process file /run/media/msw/LaCie/Actigraph_raw/2016 04/90839231 (2016-04-07).gt3x: \"'NoneType' object has no attribute 'shape'\"\n",
      "Could not process file /run/media/msw/LaCie/Actigraph_raw/2016 04/90845228 (2016-04-06).gt3x: \"'NoneType' object has no attribute 'shape'\"\n",
      "Could not process file /run/media/msw/LaCie/Actigraph_raw/2016 04/90886536 (2016-04-28).gt3x: \"Creating time array does not support sampling frequencies other than 100hz yet. See https://github.com/Trybnetic/paat/issues/10\"\n",
      "Could not process file /run/media/msw/LaCie/Actigraph_raw/2016 04/90986840 (2016-04-28).gt3x: \"'NoneType' object has no attribute 'shape'\"\n",
      "Could not process file /run/media/msw/LaCie/Actigraph_raw/2016 04/91100718 (2016-04-19).gt3x: \"'NoneType' object has no attribute 'shape'\"\n",
      "Could not process file /run/media/msw/LaCie/Actigraph_raw/2016 04/91580730 (2016-04-28).gt3x: \"Creating time array does not support sampling frequencies other than 100hz yet. See https://github.com/Trybnetic/paat/issues/10\"\n",
      "Could not process file /run/media/msw/LaCie/Actigraph_raw/2016 04/92504020 (2016-04-28).gt3x: \"Creating time array does not support sampling frequencies other than 100hz yet. See https://github.com/Trybnetic/paat/issues/10\"\n",
      "Could not process file /run/media/msw/LaCie/Actigraph_raw/2016 05/90617629 (2016-05-27).gt3x: \"'Serial_Number'\"\n",
      "Could not process file /run/media/msw/LaCie/Actigraph_raw/2016 05/92708935 (2016-05-04).gt3x: \"'Serial_Number'\"\n",
      "Could not process file /run/media/msw/LaCie/Actigraph_raw/2016 08/90649836 (2016-08-12).gt3x: \"'NoneType' object has no attribute 'shape'\"\n",
      "Could not process file /run/media/msw/LaCie/Actigraph_raw/2016 08/90764026 (2016-08-12).gt3x: \"'NoneType' object has no attribute 'shape'\"\n",
      "Could not process file /run/media/msw/LaCie/Actigraph_raw/2016 08/90932629 (2016-08-31).gt3x: \"'NoneType' object has no attribute 'shape'\"\n",
      "Could not process file /run/media/msw/LaCie/Actigraph_raw/2016 08/91583430 (2016-08-12).gt3x: \"'NoneType' object has no attribute 'shape'\"\n"
     ]
    }
   ],
   "source": [
    "# Get all gt3x files\n",
    "gt3x_files = glob2.glob(os.path.join(GT3X_BASE_PATH, '**', '*.gt3x'))\n",
    "    \n",
    "# Create new empty h5 file\n",
    "h5py.File(HDF5_FILE_PATH, 'w').close()\n",
    "\n",
    "# Process all files\n",
    "with Pool(N_JOBS) as p:\n",
    "    list(tqdm(p.imap(process_file, gt3x_files), total=len(gt3x_files)))"
   ]
  }
 ],
 "metadata": {
  "kernelspec": {
   "display_name": "Python 3",
   "language": "python",
   "name": "python3"
  },
  "language_info": {
   "codemirror_mode": {
    "name": "ipython",
    "version": 3
   },
   "file_extension": ".py",
   "mimetype": "text/x-python",
   "name": "python",
   "nbconvert_exporter": "python",
   "pygments_lexer": "ipython3",
   "version": "3.8.11"
  }
 },
 "nbformat": 4,
 "nbformat_minor": 5
}
